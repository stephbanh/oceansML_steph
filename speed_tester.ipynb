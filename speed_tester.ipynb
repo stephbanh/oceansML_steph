{
 "cells": [
  {
   "cell_type": "code",
   "execution_count": 1,
   "metadata": {},
   "outputs": [],
   "source": [
    "# Import our dependencies\n",
    "from sklearn.model_selection import train_test_split\n",
    "from sklearn.preprocessing import StandardScaler, RobustScaler, KBinsDiscretizer\n",
    "from sklearn.compose import TransformedTargetRegressor\n",
    "import pandas as pd\n",
    "import tensorflow as tf\n",
    "import numpy as np\n",
    "import json\n",
    "\n",
    "#  Import and read the charity_data.csv.\n",
    "import pandas as pd "
   ]
  },
  {
   "cell_type": "code",
   "execution_count": 2,
   "metadata": {},
   "outputs": [
    {
     "data": {
      "text/html": [
       "<div>\n",
       "<style scoped>\n",
       "    .dataframe tbody tr th:only-of-type {\n",
       "        vertical-align: middle;\n",
       "    }\n",
       "\n",
       "    .dataframe tbody tr th {\n",
       "        vertical-align: top;\n",
       "    }\n",
       "\n",
       "    .dataframe thead th {\n",
       "        text-align: right;\n",
       "    }\n",
       "</style>\n",
       "<table border=\"1\" class=\"dataframe\">\n",
       "  <thead>\n",
       "    <tr style=\"text-align: right;\">\n",
       "      <th></th>\n",
       "      <th>mmsi</th>\n",
       "      <th>timestamp</th>\n",
       "      <th>speed</th>\n",
       "      <th>course</th>\n",
       "      <th>lat</th>\n",
       "      <th>lon</th>\n",
       "      <th>is_fishing</th>\n",
       "    </tr>\n",
       "  </thead>\n",
       "  <tbody>\n",
       "    <tr>\n",
       "      <th>0</th>\n",
       "      <td>12639560807591</td>\n",
       "      <td>2012-01-21 09:01:44</td>\n",
       "      <td>8.2</td>\n",
       "      <td>230.500000</td>\n",
       "      <td>14.865583</td>\n",
       "      <td>-26.853662</td>\n",
       "      <td>-1</td>\n",
       "    </tr>\n",
       "    <tr>\n",
       "      <th>1</th>\n",
       "      <td>12639560807591</td>\n",
       "      <td>2012-01-21 09:03:25</td>\n",
       "      <td>7.3</td>\n",
       "      <td>238.399994</td>\n",
       "      <td>14.863870</td>\n",
       "      <td>-26.856800</td>\n",
       "      <td>-1</td>\n",
       "    </tr>\n",
       "    <tr>\n",
       "      <th>2</th>\n",
       "      <td>12639560807591</td>\n",
       "      <td>2012-01-21 09:05:34</td>\n",
       "      <td>6.8</td>\n",
       "      <td>238.899994</td>\n",
       "      <td>14.861551</td>\n",
       "      <td>-26.860649</td>\n",
       "      <td>-1</td>\n",
       "    </tr>\n",
       "    <tr>\n",
       "      <th>3</th>\n",
       "      <td>12639560807591</td>\n",
       "      <td>2012-01-21 10:54:41</td>\n",
       "      <td>6.9</td>\n",
       "      <td>251.800003</td>\n",
       "      <td>14.822686</td>\n",
       "      <td>-26.865898</td>\n",
       "      <td>-1</td>\n",
       "    </tr>\n",
       "    <tr>\n",
       "      <th>4</th>\n",
       "      <td>12639560807591</td>\n",
       "      <td>2012-01-21 10:55:41</td>\n",
       "      <td>6.1</td>\n",
       "      <td>231.100006</td>\n",
       "      <td>14.821825</td>\n",
       "      <td>-26.867579</td>\n",
       "      <td>-1</td>\n",
       "    </tr>\n",
       "  </tbody>\n",
       "</table>\n",
       "</div>"
      ],
      "text/plain": [
       "             mmsi           timestamp  speed      course        lat  \\\n",
       "0  12639560807591 2012-01-21 09:01:44    8.2  230.500000  14.865583   \n",
       "1  12639560807591 2012-01-21 09:03:25    7.3  238.399994  14.863870   \n",
       "2  12639560807591 2012-01-21 09:05:34    6.8  238.899994  14.861551   \n",
       "3  12639560807591 2012-01-21 10:54:41    6.9  251.800003  14.822686   \n",
       "4  12639560807591 2012-01-21 10:55:41    6.1  231.100006  14.821825   \n",
       "\n",
       "         lon  is_fishing  \n",
       "0 -26.853662          -1  \n",
       "1 -26.856800          -1  \n",
       "2 -26.860649          -1  \n",
       "3 -26.865898          -1  \n",
       "4 -26.867579          -1  "
      ]
     },
     "execution_count": 2,
     "metadata": {},
     "output_type": "execute_result"
    }
   ],
   "source": [
    "initial_df = pd.read_json(\"drifting_ll_1.json\")\n",
    "initial_df.head()"
   ]
  },
  {
   "cell_type": "code",
   "execution_count": 3,
   "metadata": {},
   "outputs": [],
   "source": [
    "initial_df['lat'] = initial_df['lat'].astype(int)\n",
    "initial_df['lon'] = initial_df['lon'].astype(int)\n",
    "initial_df['speed'] = initial_df['speed'].astype(int)"
   ]
  },
  {
   "cell_type": "code",
   "execution_count": 4,
   "metadata": {},
   "outputs": [
    {
     "data": {
      "text/html": [
       "<div>\n",
       "<style scoped>\n",
       "    .dataframe tbody tr th:only-of-type {\n",
       "        vertical-align: middle;\n",
       "    }\n",
       "\n",
       "    .dataframe tbody tr th {\n",
       "        vertical-align: top;\n",
       "    }\n",
       "\n",
       "    .dataframe thead th {\n",
       "        text-align: right;\n",
       "    }\n",
       "</style>\n",
       "<table border=\"1\" class=\"dataframe\">\n",
       "  <thead>\n",
       "    <tr style=\"text-align: right;\">\n",
       "      <th></th>\n",
       "      <th>mmsi</th>\n",
       "      <th>timestamp</th>\n",
       "      <th>speed</th>\n",
       "      <th>course</th>\n",
       "      <th>lat</th>\n",
       "      <th>lon</th>\n",
       "      <th>is_fishing</th>\n",
       "      <th>Month</th>\n",
       "    </tr>\n",
       "  </thead>\n",
       "  <tbody>\n",
       "    <tr>\n",
       "      <th>0</th>\n",
       "      <td>12639560807591</td>\n",
       "      <td>2012-01-21 09:01:44</td>\n",
       "      <td>8</td>\n",
       "      <td>230.500000</td>\n",
       "      <td>14</td>\n",
       "      <td>-26</td>\n",
       "      <td>-1</td>\n",
       "      <td>January</td>\n",
       "    </tr>\n",
       "    <tr>\n",
       "      <th>1</th>\n",
       "      <td>12639560807591</td>\n",
       "      <td>2012-01-21 09:03:25</td>\n",
       "      <td>7</td>\n",
       "      <td>238.399994</td>\n",
       "      <td>14</td>\n",
       "      <td>-26</td>\n",
       "      <td>-1</td>\n",
       "      <td>January</td>\n",
       "    </tr>\n",
       "    <tr>\n",
       "      <th>2</th>\n",
       "      <td>12639560807591</td>\n",
       "      <td>2012-01-21 09:05:34</td>\n",
       "      <td>6</td>\n",
       "      <td>238.899994</td>\n",
       "      <td>14</td>\n",
       "      <td>-26</td>\n",
       "      <td>-1</td>\n",
       "      <td>January</td>\n",
       "    </tr>\n",
       "    <tr>\n",
       "      <th>3</th>\n",
       "      <td>12639560807591</td>\n",
       "      <td>2012-01-21 10:54:41</td>\n",
       "      <td>6</td>\n",
       "      <td>251.800003</td>\n",
       "      <td>14</td>\n",
       "      <td>-26</td>\n",
       "      <td>-1</td>\n",
       "      <td>January</td>\n",
       "    </tr>\n",
       "    <tr>\n",
       "      <th>4</th>\n",
       "      <td>12639560807591</td>\n",
       "      <td>2012-01-21 10:55:41</td>\n",
       "      <td>6</td>\n",
       "      <td>231.100006</td>\n",
       "      <td>14</td>\n",
       "      <td>-26</td>\n",
       "      <td>-1</td>\n",
       "      <td>January</td>\n",
       "    </tr>\n",
       "  </tbody>\n",
       "</table>\n",
       "</div>"
      ],
      "text/plain": [
       "             mmsi           timestamp  speed      course  lat  lon  \\\n",
       "0  12639560807591 2012-01-21 09:01:44      8  230.500000   14  -26   \n",
       "1  12639560807591 2012-01-21 09:03:25      7  238.399994   14  -26   \n",
       "2  12639560807591 2012-01-21 09:05:34      6  238.899994   14  -26   \n",
       "3  12639560807591 2012-01-21 10:54:41      6  251.800003   14  -26   \n",
       "4  12639560807591 2012-01-21 10:55:41      6  231.100006   14  -26   \n",
       "\n",
       "   is_fishing    Month  \n",
       "0          -1  January  \n",
       "1          -1  January  \n",
       "2          -1  January  \n",
       "3          -1  January  \n",
       "4          -1  January  "
      ]
     },
     "execution_count": 4,
     "metadata": {},
     "output_type": "execute_result"
    }
   ],
   "source": [
    "#mmsi is an identifier (aka the boat name). drop it\n",
    "# time stamp? \n",
    "# what does the course number mean \n",
    "# -1=standard 'loitering', other two are more active? 1 0\n",
    "# round lat and lon to ints for sanity's sake\n",
    "# process timestamp into year month? \n",
    "month_list = []\n",
    "for i in range(len(initial_df['timestamp'])):\n",
    "    month_list.append(initial_df['timestamp'][i].month_name())\n",
    "\n",
    "initial_df[\"Month\"] = month_list\n",
    "initial_df.head()"
   ]
  },
  {
   "cell_type": "code",
   "execution_count": 5,
   "metadata": {},
   "outputs": [
    {
     "data": {
      "text/html": [
       "<div>\n",
       "<style scoped>\n",
       "    .dataframe tbody tr th:only-of-type {\n",
       "        vertical-align: middle;\n",
       "    }\n",
       "\n",
       "    .dataframe tbody tr th {\n",
       "        vertical-align: top;\n",
       "    }\n",
       "\n",
       "    .dataframe thead th {\n",
       "        text-align: right;\n",
       "    }\n",
       "</style>\n",
       "<table border=\"1\" class=\"dataframe\">\n",
       "  <thead>\n",
       "    <tr style=\"text-align: right;\">\n",
       "      <th></th>\n",
       "      <th>mmsi</th>\n",
       "      <th>timestamp</th>\n",
       "      <th>speed</th>\n",
       "      <th>course</th>\n",
       "      <th>lat</th>\n",
       "      <th>lon</th>\n",
       "      <th>is_fishing</th>\n",
       "      <th>Month</th>\n",
       "      <th>Year</th>\n",
       "    </tr>\n",
       "  </thead>\n",
       "  <tbody>\n",
       "    <tr>\n",
       "      <th>0</th>\n",
       "      <td>12639560807591</td>\n",
       "      <td>2012-01-21 09:01:44</td>\n",
       "      <td>8</td>\n",
       "      <td>230.500000</td>\n",
       "      <td>14</td>\n",
       "      <td>-26</td>\n",
       "      <td>-1</td>\n",
       "      <td>January</td>\n",
       "      <td>2012</td>\n",
       "    </tr>\n",
       "    <tr>\n",
       "      <th>1</th>\n",
       "      <td>12639560807591</td>\n",
       "      <td>2012-01-21 09:03:25</td>\n",
       "      <td>7</td>\n",
       "      <td>238.399994</td>\n",
       "      <td>14</td>\n",
       "      <td>-26</td>\n",
       "      <td>-1</td>\n",
       "      <td>January</td>\n",
       "      <td>2012</td>\n",
       "    </tr>\n",
       "    <tr>\n",
       "      <th>2</th>\n",
       "      <td>12639560807591</td>\n",
       "      <td>2012-01-21 09:05:34</td>\n",
       "      <td>6</td>\n",
       "      <td>238.899994</td>\n",
       "      <td>14</td>\n",
       "      <td>-26</td>\n",
       "      <td>-1</td>\n",
       "      <td>January</td>\n",
       "      <td>2012</td>\n",
       "    </tr>\n",
       "    <tr>\n",
       "      <th>3</th>\n",
       "      <td>12639560807591</td>\n",
       "      <td>2012-01-21 10:54:41</td>\n",
       "      <td>6</td>\n",
       "      <td>251.800003</td>\n",
       "      <td>14</td>\n",
       "      <td>-26</td>\n",
       "      <td>-1</td>\n",
       "      <td>January</td>\n",
       "      <td>2012</td>\n",
       "    </tr>\n",
       "    <tr>\n",
       "      <th>4</th>\n",
       "      <td>12639560807591</td>\n",
       "      <td>2012-01-21 10:55:41</td>\n",
       "      <td>6</td>\n",
       "      <td>231.100006</td>\n",
       "      <td>14</td>\n",
       "      <td>-26</td>\n",
       "      <td>-1</td>\n",
       "      <td>January</td>\n",
       "      <td>2012</td>\n",
       "    </tr>\n",
       "  </tbody>\n",
       "</table>\n",
       "</div>"
      ],
      "text/plain": [
       "             mmsi           timestamp  speed      course  lat  lon  \\\n",
       "0  12639560807591 2012-01-21 09:01:44      8  230.500000   14  -26   \n",
       "1  12639560807591 2012-01-21 09:03:25      7  238.399994   14  -26   \n",
       "2  12639560807591 2012-01-21 09:05:34      6  238.899994   14  -26   \n",
       "3  12639560807591 2012-01-21 10:54:41      6  251.800003   14  -26   \n",
       "4  12639560807591 2012-01-21 10:55:41      6  231.100006   14  -26   \n",
       "\n",
       "   is_fishing    Month  Year  \n",
       "0          -1  January  2012  \n",
       "1          -1  January  2012  \n",
       "2          -1  January  2012  \n",
       "3          -1  January  2012  \n",
       "4          -1  January  2012  "
      ]
     },
     "execution_count": 5,
     "metadata": {},
     "output_type": "execute_result"
    }
   ],
   "source": [
    "year_list = []\n",
    "for i in range(len(initial_df['timestamp'])):\n",
    "    year_list.append(initial_df['timestamp'][i].year)\n",
    "\n",
    "initial_df[\"Year\"] = year_list\n",
    "initial_df.head()"
   ]
  },
  {
   "cell_type": "code",
   "execution_count": 6,
   "metadata": {},
   "outputs": [
    {
     "data": {
      "text/html": [
       "<div>\n",
       "<style scoped>\n",
       "    .dataframe tbody tr th:only-of-type {\n",
       "        vertical-align: middle;\n",
       "    }\n",
       "\n",
       "    .dataframe tbody tr th {\n",
       "        vertical-align: top;\n",
       "    }\n",
       "\n",
       "    .dataframe thead th {\n",
       "        text-align: right;\n",
       "    }\n",
       "</style>\n",
       "<table border=\"1\" class=\"dataframe\">\n",
       "  <thead>\n",
       "    <tr style=\"text-align: right;\">\n",
       "      <th></th>\n",
       "      <th>speed</th>\n",
       "      <th>course</th>\n",
       "      <th>lat</th>\n",
       "      <th>lon</th>\n",
       "      <th>is_fishing</th>\n",
       "      <th>Month</th>\n",
       "      <th>Year</th>\n",
       "    </tr>\n",
       "  </thead>\n",
       "  <tbody>\n",
       "    <tr>\n",
       "      <th>0</th>\n",
       "      <td>8</td>\n",
       "      <td>230.500000</td>\n",
       "      <td>14</td>\n",
       "      <td>-26</td>\n",
       "      <td>-1</td>\n",
       "      <td>January</td>\n",
       "      <td>2012</td>\n",
       "    </tr>\n",
       "    <tr>\n",
       "      <th>1</th>\n",
       "      <td>7</td>\n",
       "      <td>238.399994</td>\n",
       "      <td>14</td>\n",
       "      <td>-26</td>\n",
       "      <td>-1</td>\n",
       "      <td>January</td>\n",
       "      <td>2012</td>\n",
       "    </tr>\n",
       "    <tr>\n",
       "      <th>2</th>\n",
       "      <td>6</td>\n",
       "      <td>238.899994</td>\n",
       "      <td>14</td>\n",
       "      <td>-26</td>\n",
       "      <td>-1</td>\n",
       "      <td>January</td>\n",
       "      <td>2012</td>\n",
       "    </tr>\n",
       "    <tr>\n",
       "      <th>3</th>\n",
       "      <td>6</td>\n",
       "      <td>251.800003</td>\n",
       "      <td>14</td>\n",
       "      <td>-26</td>\n",
       "      <td>-1</td>\n",
       "      <td>January</td>\n",
       "      <td>2012</td>\n",
       "    </tr>\n",
       "    <tr>\n",
       "      <th>4</th>\n",
       "      <td>6</td>\n",
       "      <td>231.100006</td>\n",
       "      <td>14</td>\n",
       "      <td>-26</td>\n",
       "      <td>-1</td>\n",
       "      <td>January</td>\n",
       "      <td>2012</td>\n",
       "    </tr>\n",
       "  </tbody>\n",
       "</table>\n",
       "</div>"
      ],
      "text/plain": [
       "   speed      course  lat  lon  is_fishing    Month  Year\n",
       "0      8  230.500000   14  -26          -1  January  2012\n",
       "1      7  238.399994   14  -26          -1  January  2012\n",
       "2      6  238.899994   14  -26          -1  January  2012\n",
       "3      6  251.800003   14  -26          -1  January  2012\n",
       "4      6  231.100006   14  -26          -1  January  2012"
      ]
     },
     "execution_count": 6,
     "metadata": {},
     "output_type": "execute_result"
    }
   ],
   "source": [
    "processing_df = initial_df.drop([\"mmsi\",\"timestamp\"], axis=1)\n",
    "processing_df.head()"
   ]
  },
  {
   "cell_type": "code",
   "execution_count": 7,
   "metadata": {},
   "outputs": [
    {
     "data": {
      "text/plain": [
       "360.000000    426\n",
       "201.000000     23\n",
       "22.000000      23\n",
       "24.000000      21\n",
       "200.000000     20\n",
       "             ... \n",
       "79.900002       1\n",
       "326.399994      1\n",
       "332.799988      1\n",
       "146.100006      1\n",
       "272.500000      1\n",
       "Name: course, Length: 3241, dtype: int64"
      ]
     },
     "execution_count": 7,
     "metadata": {},
     "output_type": "execute_result"
    }
   ],
   "source": [
    "processing_df['course'].value_counts()"
   ]
  },
  {
   "cell_type": "code",
   "execution_count": 8,
   "metadata": {},
   "outputs": [
    {
     "data": {
      "text/plain": [
       "Index(['course', 'lat', 'lon', 'is_fishing', 'Year', 'Month_April',\n",
       "       'Month_August', 'Month_December', 'Month_February', 'Month_January',\n",
       "       'Month_July', 'Month_June', 'Month_March', 'Month_May',\n",
       "       'Month_November', 'Month_October', 'Month_September'],\n",
       "      dtype='object')"
      ]
     },
     "execution_count": 8,
     "metadata": {},
     "output_type": "execute_result"
    }
   ],
   "source": [
    "to_test = pd.get_dummies(processing_df)\n",
    "X = to_test.drop(['speed'], axis=1)\n",
    "y = to_test['speed']\n",
    "X.columns"
   ]
  },
  {
   "cell_type": "code",
   "execution_count": 9,
   "metadata": {},
   "outputs": [],
   "source": [
    "X_train, X_test, y_train, y_test = train_test_split(X, y, random_state=1)\n",
    "scaler = StandardScaler().fit(X_train)\n",
    "X_train_scaled = scaler.transform(X_train)\n",
    "X_test_scaled = scaler.transform(X_test)"
   ]
  },
  {
   "cell_type": "code",
   "execution_count": 10,
   "metadata": {},
   "outputs": [
    {
     "name": "stdout",
     "output_type": "stream",
     "text": [
      "Training Score: 0.9193469983285205\n",
      "Testing Score: 0.5517769541350874\n"
     ]
    }
   ],
   "source": [
    "from sklearn.ensemble import RandomForestRegressor\n",
    "clf = RandomForestRegressor(random_state=1, n_estimators=500).fit(X_train_scaled, y_train)\n",
    "print(f'Training Score: {clf.score(X_train_scaled, y_train)}')\n",
    "print(f'Testing Score: {clf.score(X_test_scaled, y_test)}')\n",
    "#regressor was used here due to all of the data being numeric. Classifier refuses to process different shaped numeric information \n"
   ]
  },
  {
   "cell_type": "code",
   "execution_count": 11,
   "metadata": {},
   "outputs": [
    {
     "data": {
      "image/png": "[encoded data removed]",
      "text/plain": [
       "<Figure size 720x14400 with 1 Axes>"
      ]
     },
     "metadata": {
      "needs_background": "light"
     },
     "output_type": "display_data"
    }
   ],
   "source": [
    "#we can't do predictions with this data but we can do feature importance \n",
    "import matplotlib.pyplot as plt\n",
    "feature_importances = clf.feature_importances_\n",
    "features = sorted(zip(X.columns, clf.feature_importances_), key = lambda x: x[1])\n",
    "cols = [f[0] for f in features]\n",
    "width = [f[1] for f in features]\n",
    "\n",
    "fig, ax = plt.subplots()\n",
    "\n",
    "fig.set_size_inches(10,200)\n",
    "plt.margins(y=0.001)\n",
    "\n",
    "ax.barh(y=cols, width=width)\n",
    "\n",
    "plt.show()"
   ]
  },
  {
   "cell_type": "code",
   "execution_count": 12,
   "metadata": {},
   "outputs": [
    {
     "name": "stderr",
     "output_type": "stream",
     "text": [
      "c:\\Users\\steph\\anaconda3\\lib\\site-packages\\sklearn\\base.py:444: UserWarning: X has feature names, but SelectFromModel was fitted without feature names\n",
      "  f\"X has feature names, but {self.__class__.__name__} was fitted without\"\n"
     ]
    }
   ],
   "source": [
    "from sklearn.feature_selection import SelectFromModel\n",
    "sel = SelectFromModel(clf)\n",
    "sel.fit(X_train_scaled, y_train)\n",
    "\n",
    "X_selected_train, X_selected_test, y_train, y_test = train_test_split(sel.transform(X), y, random_state=1)\n",
    "scaler = StandardScaler().fit(X_selected_train)\n",
    "X_selected_train_scaled = scaler.transform(X_selected_train)\n",
    "X_selected_test_scaled = scaler.transform(X_selected_test)"
   ]
  },
  {
   "cell_type": "code",
   "execution_count": 13,
   "metadata": {},
   "outputs": [
    {
     "name": "stdout",
     "output_type": "stream",
     "text": [
      "Training Score: 0.902801730956478\n",
      "Testing Score: 0.46947014714245383\n"
     ]
    }
   ],
   "source": [
    "# the selected dataset works even worse which indicates that even with selected/reduced features; it is quite overfit\n",
    "clf = RandomForestRegressor().fit(X_selected_train_scaled, y_train)\n",
    "print(f'Training Score: {clf.score(X_selected_train_scaled, y_train)}')\n",
    "print(f'Testing Score: {clf.score(X_selected_test_scaled, y_test)}')"
   ]
  },
  {
   "cell_type": "code",
   "execution_count": 14,
   "metadata": {},
   "outputs": [
    {
     "name": "stdout",
     "output_type": "stream",
     "text": [
      "Model: KNeighborsRegressor\n",
      "Train score: 0.6243771307302879\n",
      "Test Score: 0.4774186373783088\n",
      "\n",
      "Model: RandomForestRegressor\n",
      "Train score: 0.919379931190844\n",
      "Test Score: 0.533906268537574\n",
      "\n",
      "Model: ExtraTreesRegressor\n",
      "Train score: 0.9950507537325064\n",
      "Test Score: 0.3098503848129067\n",
      "\n",
      "Model: AdaBoostRegressor\n",
      "Train score: 0.3008082480478893\n",
      "Test Score: 0.18333565889478975\n",
      "\n",
      "Model: SVR\n",
      "Train score: 0.25830522636872644\n",
      "Test Score: 0.2968887104109743\n",
      "\n"
     ]
    }
   ],
   "source": [
    "#trying other models; the trees are still doing the best but they are overfit\n",
    "from sklearn.neighbors import KNeighborsRegressor\n",
    "from sklearn.ensemble import ExtraTreesRegressor, AdaBoostRegressor\n",
    "from sklearn.svm import SVR\n",
    "data = [X_train_scaled, X_test_scaled, y_train, y_test]\n",
    "\n",
    "def test_model(model, data):\n",
    "    X_train_scaled, X_test_scaled, y_train, y_test = data\n",
    "    reg = model.fit(X_train_scaled, y_train)\n",
    "    print(f'Model: {type(reg).__name__}')\n",
    "    print(f'Train score: {reg.score(X_train_scaled, y_train)}')\n",
    "    print(f'Test Score: {reg.score(X_test_scaled, y_test)}\\n')\n",
    "    plt.show()    \n",
    "\n",
    "test_model(KNeighborsRegressor(), data)\n",
    "test_model(RandomForestRegressor(), data)\n",
    "test_model(ExtraTreesRegressor(), data)\n",
    "test_model(AdaBoostRegressor(), data)\n",
    "test_model(SVR(C=1.0, epsilon=0.2), data)"
   ]
  },
  {
   "cell_type": "code",
   "execution_count": 15,
   "metadata": {},
   "outputs": [
    {
     "data": {
      "text/plain": [
       "array([0.14627018, 0.08323026, 0.0685773 , 0.06567256, 0.06357279,\n",
       "       0.06190696, 0.06070605, 0.06049018, 0.05919352, 0.05809976,\n",
       "       0.05715178, 0.05577119, 0.05043769, 0.04524713])"
      ]
     },
     "execution_count": 15,
     "metadata": {},
     "output_type": "execute_result"
    }
   ],
   "source": [
    "from sklearn.decomposition import PCA\n",
    "pca = PCA(n_components=0.9)\n",
    "df_scaled = StandardScaler().fit_transform(to_test)\n",
    "speed_pca = pca.fit_transform(df_scaled)\n",
    "\n",
    "pca.explained_variance_ratio_"
   ]
  },
  {
   "cell_type": "code",
   "execution_count": 16,
   "metadata": {},
   "outputs": [
    {
     "data": {
      "image/png": "[encoded data removed]",
      "text/plain": [
       "<Figure size 432x288 with 1 Axes>"
      ]
     },
     "metadata": {
      "needs_background": "light"
     },
     "output_type": "display_data"
    }
   ],
   "source": [
    "from sklearn.cluster import KMeans\n",
    "# Finding the best value for k\n",
    "inertia = []\n",
    "k = list(range(1, 11))\n",
    "\n",
    "# Calculate the inertia for the range of k values\n",
    "for i in k:\n",
    "    km = KMeans(n_clusters=i, random_state=0)\n",
    "    km.fit(speed_pca)\n",
    "    inertia.append(km.inertia_)\n",
    "\n",
    "# Creating the Elbow Curve\n",
    "elbow_data = {\"k\": k, \"inertia\": inertia}\n",
    "df_elbow = pd.DataFrame(elbow_data)\n",
    "\n",
    "plt.plot(df_elbow['k'], df_elbow['inertia'])\n",
    "plt.xticks(list(range(11)))\n",
    "plt.title('Elbow Curve')\n",
    "plt.xlabel('Number of clusters')\n",
    "plt.ylabel('Inertia')\n",
    "plt.show()"
   ]
  },
  {
   "cell_type": "code",
   "execution_count": 19,
   "metadata": {},
   "outputs": [
    {
     "data": {
      "text/plain": [
       "array([ 1.70334285,  0.74682016, -1.61725178, -1.52308351,  0.05705425,\n",
       "        0.11557757, -0.69133479,  0.45344619,  1.31340383, -1.510557  ,\n",
       "       -2.15983085,  1.45530429,  0.38694817,  2.67413054])"
      ]
     },
     "execution_count": 19,
     "metadata": {},
     "output_type": "execute_result"
    }
   ],
   "source": [
    "speed_pca[0]"
   ]
  },
  {
   "cell_type": "code",
   "execution_count": 21,
   "metadata": {},
   "outputs": [],
   "source": [
    "model = KMeans(n_clusters=2, random_state=0)\n",
    "\n",
    "# Fit the model\n",
    "model.fit(speed_pca)\n",
    "\n",
    "# Predict clusters\n",
    "predictions = model.predict(speed_pca)\n",
    "\n"
   ]
  },
  {
   "cell_type": "code",
   "execution_count": 27,
   "metadata": {},
   "outputs": [
    {
     "data": {
      "text/html": [
       "<div>\n",
       "<style scoped>\n",
       "    .dataframe tbody tr th:only-of-type {\n",
       "        vertical-align: middle;\n",
       "    }\n",
       "\n",
       "    .dataframe tbody tr th {\n",
       "        vertical-align: top;\n",
       "    }\n",
       "\n",
       "    .dataframe thead th {\n",
       "        text-align: right;\n",
       "    }\n",
       "</style>\n",
       "<table border=\"1\" class=\"dataframe\">\n",
       "  <thead>\n",
       "    <tr style=\"text-align: right;\">\n",
       "      <th></th>\n",
       "      <th>0</th>\n",
       "      <th>1</th>\n",
       "      <th>2</th>\n",
       "      <th>3</th>\n",
       "      <th>4</th>\n",
       "      <th>5</th>\n",
       "      <th>6</th>\n",
       "      <th>7</th>\n",
       "      <th>8</th>\n",
       "      <th>9</th>\n",
       "      <th>10</th>\n",
       "      <th>11</th>\n",
       "      <th>12</th>\n",
       "      <th>13</th>\n",
       "      <th>Predictions</th>\n",
       "    </tr>\n",
       "  </thead>\n",
       "  <tbody>\n",
       "    <tr>\n",
       "      <th>0</th>\n",
       "      <td>1.703343</td>\n",
       "      <td>0.746820</td>\n",
       "      <td>-1.617252</td>\n",
       "      <td>-1.523084</td>\n",
       "      <td>0.057054</td>\n",
       "      <td>0.115578</td>\n",
       "      <td>-0.691335</td>\n",
       "      <td>0.453446</td>\n",
       "      <td>1.313404</td>\n",
       "      <td>-1.510557</td>\n",
       "      <td>-2.159831</td>\n",
       "      <td>1.455304</td>\n",
       "      <td>0.386948</td>\n",
       "      <td>2.674131</td>\n",
       "      <td>1</td>\n",
       "    </tr>\n",
       "    <tr>\n",
       "      <th>1</th>\n",
       "      <td>1.656566</td>\n",
       "      <td>0.736037</td>\n",
       "      <td>-1.775711</td>\n",
       "      <td>-1.567465</td>\n",
       "      <td>0.012410</td>\n",
       "      <td>0.119346</td>\n",
       "      <td>-0.702440</td>\n",
       "      <td>0.469911</td>\n",
       "      <td>1.302144</td>\n",
       "      <td>-1.509907</td>\n",
       "      <td>-2.157752</td>\n",
       "      <td>1.336628</td>\n",
       "      <td>0.415798</td>\n",
       "      <td>2.562954</td>\n",
       "      <td>1</td>\n",
       "    </tr>\n",
       "    <tr>\n",
       "      <th>2</th>\n",
       "      <td>1.613239</td>\n",
       "      <td>0.729462</td>\n",
       "      <td>-1.903625</td>\n",
       "      <td>-1.628935</td>\n",
       "      <td>-0.022958</td>\n",
       "      <td>0.122694</td>\n",
       "      <td>-0.711908</td>\n",
       "      <td>0.488573</td>\n",
       "      <td>1.291623</td>\n",
       "      <td>-1.509776</td>\n",
       "      <td>-2.153435</td>\n",
       "      <td>1.262723</td>\n",
       "      <td>0.440270</td>\n",
       "      <td>2.416990</td>\n",
       "      <td>1</td>\n",
       "    </tr>\n",
       "    <tr>\n",
       "      <th>3</th>\n",
       "      <td>1.607225</td>\n",
       "      <td>0.722128</td>\n",
       "      <td>-1.956874</td>\n",
       "      <td>-1.599146</td>\n",
       "      <td>-0.039130</td>\n",
       "      <td>0.123425</td>\n",
       "      <td>-0.714762</td>\n",
       "      <td>0.484744</td>\n",
       "      <td>1.290337</td>\n",
       "      <td>-1.508871</td>\n",
       "      <td>-2.157338</td>\n",
       "      <td>1.184675</td>\n",
       "      <td>0.447901</td>\n",
       "      <td>2.477633</td>\n",
       "      <td>1</td>\n",
       "    </tr>\n",
       "    <tr>\n",
       "      <th>4</th>\n",
       "      <td>1.616875</td>\n",
       "      <td>0.733897</td>\n",
       "      <td>-1.871428</td>\n",
       "      <td>-1.646947</td>\n",
       "      <td>-0.013179</td>\n",
       "      <td>0.122252</td>\n",
       "      <td>-0.710183</td>\n",
       "      <td>0.490889</td>\n",
       "      <td>1.292401</td>\n",
       "      <td>-1.510324</td>\n",
       "      <td>-2.151075</td>\n",
       "      <td>1.309915</td>\n",
       "      <td>0.435656</td>\n",
       "      <td>2.380322</td>\n",
       "      <td>1</td>\n",
       "    </tr>\n",
       "  </tbody>\n",
       "</table>\n",
       "</div>"
      ],
      "text/plain": [
       "          0         1         2         3         4         5         6  \\\n",
       "0  1.703343  0.746820 -1.617252 -1.523084  0.057054  0.115578 -0.691335   \n",
       "1  1.656566  0.736037 -1.775711 -1.567465  0.012410  0.119346 -0.702440   \n",
       "2  1.613239  0.729462 -1.903625 -1.628935 -0.022958  0.122694 -0.711908   \n",
       "3  1.607225  0.722128 -1.956874 -1.599146 -0.039130  0.123425 -0.714762   \n",
       "4  1.616875  0.733897 -1.871428 -1.646947 -0.013179  0.122252 -0.710183   \n",
       "\n",
       "          7         8         9        10        11        12        13  \\\n",
       "0  0.453446  1.313404 -1.510557 -2.159831  1.455304  0.386948  2.674131   \n",
       "1  0.469911  1.302144 -1.509907 -2.157752  1.336628  0.415798  2.562954   \n",
       "2  0.488573  1.291623 -1.509776 -2.153435  1.262723  0.440270  2.416990   \n",
       "3  0.484744  1.290337 -1.508871 -2.157338  1.184675  0.447901  2.477633   \n",
       "4  0.490889  1.292401 -1.510324 -2.151075  1.309915  0.435656  2.380322   \n",
       "\n",
       "   Predictions  \n",
       "0            1  \n",
       "1            1  \n",
       "2            1  \n",
       "3            1  \n",
       "4            1  "
      ]
     },
     "execution_count": 27,
     "metadata": {},
     "output_type": "execute_result"
    }
   ],
   "source": [
    "speed_df = pd.DataFrame(speed_pca)\n",
    "speed_df['Predictions'] = predictions\n",
    "speed_df.head()\n",
    "#from 18 dimensions to 14 dimensions"
   ]
  },
  {
   "cell_type": "code",
   "execution_count": 31,
   "metadata": {},
   "outputs": [
    {
     "data": {
      "text/plain": [
       "0        1.703343\n",
       "1        1.656566\n",
       "2        1.613239\n",
       "3        1.607225\n",
       "4        1.616875\n",
       "           ...   \n",
       "11395    0.133159\n",
       "11396    0.088480\n",
       "11397    0.176671\n",
       "11398    0.138564\n",
       "11399   -0.247984\n",
       "Name: 0, Length: 11400, dtype: float64"
      ]
     },
     "execution_count": 31,
     "metadata": {},
     "output_type": "execute_result"
    }
   ],
   "source": [
    "speed_df[0]"
   ]
  },
  {
   "cell_type": "code",
   "execution_count": 35,
   "metadata": {},
   "outputs": [
    {
     "data": {
      "image/png": "[encoded data removed]",
      "text/plain": [
       "<Figure size 432x288 with 1 Axes>"
      ]
     },
     "metadata": {
      "needs_background": "light"
     },
     "output_type": "display_data"
    }
   ],
   "source": [
    "#possible visual; the labels are probably guesses since they're the most impactful and the dataframe is structured to putting the first calculation first\n",
    "# could do tsne to further reduce dimensions to 2 \n",
    "plt.scatter(x=speed_df[0], y=speed_df[1], c=speed_df['Predictions'])\n",
    "plt.xlabel('Principal component 1(Course)')\n",
    "plt.ylabel('Principal component 2(Lon)')\n",
    "plt.title('Speed clusters')\n",
    "plt.show()"
   ]
  },
  {
   "cell_type": "code",
   "execution_count": 36,
   "metadata": {},
   "outputs": [
    {
     "data": {
      "image/png": "[encoded data removed]",
      "text/plain": [
       "<Figure size 432x288 with 1 Axes>"
      ]
     },
     "metadata": {
      "needs_background": "light"
     },
     "output_type": "display_data"
    }
   ],
   "source": [
    "#there is high variance between each image\n",
    "plt.scatter(x=speed_df[2], y=speed_df[3], c=speed_df['Predictions'])\n",
    "plt.show()"
   ]
  },
  {
   "cell_type": "code",
   "execution_count": null,
   "metadata": {},
   "outputs": [],
   "source": []
  }
 ],
 "metadata": {
  "interpreter": {
   "hash": "978a37df73f74a92b6771ec2b219500c5d24072bb2710c7c15688cbcc4259e5f"
  },
  "kernelspec": {
   "display_name": "Python 3.7.11 ('base')",
   "language": "python",
   "name": "python3"
  },
  "language_info": {
   "codemirror_mode": {
    "name": "ipython",
    "version": 3
   },
   "file_extension": ".py",
   "mimetype": "text/x-python",
   "name": "python",
   "nbconvert_exporter": "python",
   "pygments_lexer": "ipython3",
   "version": "3.7.11"
  },
  "orig_nbformat": 4
 },
 "nbformat": 4,
 "nbformat_minor": 2
}
