{
 "cells": [
  {
   "cell_type": "code",
   "execution_count": 1,
   "metadata": {},
   "outputs": [],
   "source": [
    "# Import our dependencies\n",
    "from sklearn.model_selection import train_test_split\n",
    "from sklearn.preprocessing import StandardScaler, RobustScaler, KBinsDiscretizer\n",
    "from sklearn.compose import TransformedTargetRegressor\n",
    "import pandas as pd\n",
    "import tensorflow as tf\n",
    "import numpy as np\n",
    "import json\n",
    "\n",
    "#  Import and read the charity_data.csv.\n",
    "import pandas as pd "
   ]
  },
  {
   "cell_type": "code",
   "execution_count": 2,
   "metadata": {},
   "outputs": [
    {
     "data": {
      "text/html": [
       "<div>\n",
       "<style scoped>\n",
       "    .dataframe tbody tr th:only-of-type {\n",
       "        vertical-align: middle;\n",
       "    }\n",
       "\n",
       "    .dataframe tbody tr th {\n",
       "        vertical-align: top;\n",
       "    }\n",
       "\n",
       "    .dataframe thead th {\n",
       "        text-align: right;\n",
       "    }\n",
       "</style>\n",
       "<table border=\"1\" class=\"dataframe\">\n",
       "  <thead>\n",
       "    <tr style=\"text-align: right;\">\n",
       "      <th></th>\n",
       "      <th>mmsi</th>\n",
       "      <th>timestamp</th>\n",
       "      <th>speed</th>\n",
       "      <th>course</th>\n",
       "      <th>lat</th>\n",
       "      <th>lon</th>\n",
       "      <th>is_fishing</th>\n",
       "    </tr>\n",
       "  </thead>\n",
       "  <tbody>\n",
       "    <tr>\n",
       "      <th>0</th>\n",
       "      <td>12639560807591</td>\n",
       "      <td>2012-01-21 09:01:44</td>\n",
       "      <td>8.2</td>\n",
       "      <td>230.500000</td>\n",
       "      <td>14.865583</td>\n",
       "      <td>-26.853662</td>\n",
       "      <td>-1</td>\n",
       "    </tr>\n",
       "    <tr>\n",
       "      <th>1</th>\n",
       "      <td>12639560807591</td>\n",
       "      <td>2012-01-21 09:03:25</td>\n",
       "      <td>7.3</td>\n",
       "      <td>238.399994</td>\n",
       "      <td>14.863870</td>\n",
       "      <td>-26.856800</td>\n",
       "      <td>-1</td>\n",
       "    </tr>\n",
       "    <tr>\n",
       "      <th>2</th>\n",
       "      <td>12639560807591</td>\n",
       "      <td>2012-01-21 09:05:34</td>\n",
       "      <td>6.8</td>\n",
       "      <td>238.899994</td>\n",
       "      <td>14.861551</td>\n",
       "      <td>-26.860649</td>\n",
       "      <td>-1</td>\n",
       "    </tr>\n",
       "    <tr>\n",
       "      <th>3</th>\n",
       "      <td>12639560807591</td>\n",
       "      <td>2012-01-21 10:54:41</td>\n",
       "      <td>6.9</td>\n",
       "      <td>251.800003</td>\n",
       "      <td>14.822686</td>\n",
       "      <td>-26.865898</td>\n",
       "      <td>-1</td>\n",
       "    </tr>\n",
       "    <tr>\n",
       "      <th>4</th>\n",
       "      <td>12639560807591</td>\n",
       "      <td>2012-01-21 10:55:41</td>\n",
       "      <td>6.1</td>\n",
       "      <td>231.100006</td>\n",
       "      <td>14.821825</td>\n",
       "      <td>-26.867579</td>\n",
       "      <td>-1</td>\n",
       "    </tr>\n",
       "  </tbody>\n",
       "</table>\n",
       "</div>"
      ],
      "text/plain": [
       "             mmsi           timestamp  speed      course        lat  \\\n",
       "0  12639560807591 2012-01-21 09:01:44    8.2  230.500000  14.865583   \n",
       "1  12639560807591 2012-01-21 09:03:25    7.3  238.399994  14.863870   \n",
       "2  12639560807591 2012-01-21 09:05:34    6.8  238.899994  14.861551   \n",
       "3  12639560807591 2012-01-21 10:54:41    6.9  251.800003  14.822686   \n",
       "4  12639560807591 2012-01-21 10:55:41    6.1  231.100006  14.821825   \n",
       "\n",
       "         lon  is_fishing  \n",
       "0 -26.853662          -1  \n",
       "1 -26.856800          -1  \n",
       "2 -26.860649          -1  \n",
       "3 -26.865898          -1  \n",
       "4 -26.867579          -1  "
      ]
     },
     "execution_count": 2,
     "metadata": {},
     "output_type": "execute_result"
    }
   ],
   "source": [
    "initial_df = pd.read_json(\"drifting_ll_1.json\")\n",
    "initial_df.head()"
   ]
  },
  {
   "cell_type": "code",
   "execution_count": 3,
   "metadata": {},
   "outputs": [],
   "source": [
    "initial_df['lat'] = initial_df['lat'].astype(int)\n",
    "initial_df['lon'] = initial_df['lon'].astype(int)"
   ]
  },
  {
   "cell_type": "code",
   "execution_count": 7,
   "metadata": {},
   "outputs": [
    {
     "data": {
      "text/html": [
       "<div>\n",
       "<style scoped>\n",
       "    .dataframe tbody tr th:only-of-type {\n",
       "        vertical-align: middle;\n",
       "    }\n",
       "\n",
       "    .dataframe tbody tr th {\n",
       "        vertical-align: top;\n",
       "    }\n",
       "\n",
       "    .dataframe thead th {\n",
       "        text-align: right;\n",
       "    }\n",
       "</style>\n",
       "<table border=\"1\" class=\"dataframe\">\n",
       "  <thead>\n",
       "    <tr style=\"text-align: right;\">\n",
       "      <th></th>\n",
       "      <th>mmsi</th>\n",
       "      <th>timestamp</th>\n",
       "      <th>speed</th>\n",
       "      <th>course</th>\n",
       "      <th>lat</th>\n",
       "      <th>lon</th>\n",
       "      <th>is_fishing</th>\n",
       "      <th>Month</th>\n",
       "    </tr>\n",
       "  </thead>\n",
       "  <tbody>\n",
       "    <tr>\n",
       "      <th>0</th>\n",
       "      <td>12639560807591</td>\n",
       "      <td>2012-01-21 09:01:44</td>\n",
       "      <td>8.2</td>\n",
       "      <td>230.500000</td>\n",
       "      <td>14</td>\n",
       "      <td>-26</td>\n",
       "      <td>-1</td>\n",
       "      <td>January</td>\n",
       "    </tr>\n",
       "    <tr>\n",
       "      <th>1</th>\n",
       "      <td>12639560807591</td>\n",
       "      <td>2012-01-21 09:03:25</td>\n",
       "      <td>7.3</td>\n",
       "      <td>238.399994</td>\n",
       "      <td>14</td>\n",
       "      <td>-26</td>\n",
       "      <td>-1</td>\n",
       "      <td>January</td>\n",
       "    </tr>\n",
       "    <tr>\n",
       "      <th>2</th>\n",
       "      <td>12639560807591</td>\n",
       "      <td>2012-01-21 09:05:34</td>\n",
       "      <td>6.8</td>\n",
       "      <td>238.899994</td>\n",
       "      <td>14</td>\n",
       "      <td>-26</td>\n",
       "      <td>-1</td>\n",
       "      <td>January</td>\n",
       "    </tr>\n",
       "    <tr>\n",
       "      <th>3</th>\n",
       "      <td>12639560807591</td>\n",
       "      <td>2012-01-21 10:54:41</td>\n",
       "      <td>6.9</td>\n",
       "      <td>251.800003</td>\n",
       "      <td>14</td>\n",
       "      <td>-26</td>\n",
       "      <td>-1</td>\n",
       "      <td>January</td>\n",
       "    </tr>\n",
       "    <tr>\n",
       "      <th>4</th>\n",
       "      <td>12639560807591</td>\n",
       "      <td>2012-01-21 10:55:41</td>\n",
       "      <td>6.1</td>\n",
       "      <td>231.100006</td>\n",
       "      <td>14</td>\n",
       "      <td>-26</td>\n",
       "      <td>-1</td>\n",
       "      <td>January</td>\n",
       "    </tr>\n",
       "  </tbody>\n",
       "</table>\n",
       "</div>"
      ],
      "text/plain": [
       "             mmsi           timestamp  speed      course  lat  lon  \\\n",
       "0  12639560807591 2012-01-21 09:01:44    8.2  230.500000   14  -26   \n",
       "1  12639560807591 2012-01-21 09:03:25    7.3  238.399994   14  -26   \n",
       "2  12639560807591 2012-01-21 09:05:34    6.8  238.899994   14  -26   \n",
       "3  12639560807591 2012-01-21 10:54:41    6.9  251.800003   14  -26   \n",
       "4  12639560807591 2012-01-21 10:55:41    6.1  231.100006   14  -26   \n",
       "\n",
       "   is_fishing    Month  \n",
       "0          -1  January  \n",
       "1          -1  January  \n",
       "2          -1  January  \n",
       "3          -1  January  \n",
       "4          -1  January  "
      ]
     },
     "execution_count": 7,
     "metadata": {},
     "output_type": "execute_result"
    }
   ],
   "source": [
    "#mmsi is an identifier (aka the boat name). drop it\n",
    "# time stamp? \n",
    "# what does the course number mean \n",
    "# -1=standard 'loitering', other two are more active? 1 0\n",
    "# round lat and lon to ints for sanity's sake\n",
    "# process timestamp into year month? \n",
    "month_list = []\n",
    "for i in range(len(initial_df['timestamp'])):\n",
    "    month_list.append(initial_df['timestamp'][i].month_name())\n",
    "\n",
    "initial_df[\"Month\"] = month_list\n",
    "initial_df.head()"
   ]
  },
  {
   "cell_type": "code",
   "execution_count": 8,
   "metadata": {},
   "outputs": [
    {
     "data": {
      "text/html": [
       "<div>\n",
       "<style scoped>\n",
       "    .dataframe tbody tr th:only-of-type {\n",
       "        vertical-align: middle;\n",
       "    }\n",
       "\n",
       "    .dataframe tbody tr th {\n",
       "        vertical-align: top;\n",
       "    }\n",
       "\n",
       "    .dataframe thead th {\n",
       "        text-align: right;\n",
       "    }\n",
       "</style>\n",
       "<table border=\"1\" class=\"dataframe\">\n",
       "  <thead>\n",
       "    <tr style=\"text-align: right;\">\n",
       "      <th></th>\n",
       "      <th>mmsi</th>\n",
       "      <th>timestamp</th>\n",
       "      <th>speed</th>\n",
       "      <th>course</th>\n",
       "      <th>lat</th>\n",
       "      <th>lon</th>\n",
       "      <th>is_fishing</th>\n",
       "      <th>Month</th>\n",
       "      <th>Year</th>\n",
       "    </tr>\n",
       "  </thead>\n",
       "  <tbody>\n",
       "    <tr>\n",
       "      <th>0</th>\n",
       "      <td>12639560807591</td>\n",
       "      <td>2012-01-21 09:01:44</td>\n",
       "      <td>8.2</td>\n",
       "      <td>230.500000</td>\n",
       "      <td>14</td>\n",
       "      <td>-26</td>\n",
       "      <td>-1</td>\n",
       "      <td>January</td>\n",
       "      <td>2012</td>\n",
       "    </tr>\n",
       "    <tr>\n",
       "      <th>1</th>\n",
       "      <td>12639560807591</td>\n",
       "      <td>2012-01-21 09:03:25</td>\n",
       "      <td>7.3</td>\n",
       "      <td>238.399994</td>\n",
       "      <td>14</td>\n",
       "      <td>-26</td>\n",
       "      <td>-1</td>\n",
       "      <td>January</td>\n",
       "      <td>2012</td>\n",
       "    </tr>\n",
       "    <tr>\n",
       "      <th>2</th>\n",
       "      <td>12639560807591</td>\n",
       "      <td>2012-01-21 09:05:34</td>\n",
       "      <td>6.8</td>\n",
       "      <td>238.899994</td>\n",
       "      <td>14</td>\n",
       "      <td>-26</td>\n",
       "      <td>-1</td>\n",
       "      <td>January</td>\n",
       "      <td>2012</td>\n",
       "    </tr>\n",
       "    <tr>\n",
       "      <th>3</th>\n",
       "      <td>12639560807591</td>\n",
       "      <td>2012-01-21 10:54:41</td>\n",
       "      <td>6.9</td>\n",
       "      <td>251.800003</td>\n",
       "      <td>14</td>\n",
       "      <td>-26</td>\n",
       "      <td>-1</td>\n",
       "      <td>January</td>\n",
       "      <td>2012</td>\n",
       "    </tr>\n",
       "    <tr>\n",
       "      <th>4</th>\n",
       "      <td>12639560807591</td>\n",
       "      <td>2012-01-21 10:55:41</td>\n",
       "      <td>6.1</td>\n",
       "      <td>231.100006</td>\n",
       "      <td>14</td>\n",
       "      <td>-26</td>\n",
       "      <td>-1</td>\n",
       "      <td>January</td>\n",
       "      <td>2012</td>\n",
       "    </tr>\n",
       "  </tbody>\n",
       "</table>\n",
       "</div>"
      ],
      "text/plain": [
       "             mmsi           timestamp  speed      course  lat  lon  \\\n",
       "0  12639560807591 2012-01-21 09:01:44    8.2  230.500000   14  -26   \n",
       "1  12639560807591 2012-01-21 09:03:25    7.3  238.399994   14  -26   \n",
       "2  12639560807591 2012-01-21 09:05:34    6.8  238.899994   14  -26   \n",
       "3  12639560807591 2012-01-21 10:54:41    6.9  251.800003   14  -26   \n",
       "4  12639560807591 2012-01-21 10:55:41    6.1  231.100006   14  -26   \n",
       "\n",
       "   is_fishing    Month  Year  \n",
       "0          -1  January  2012  \n",
       "1          -1  January  2012  \n",
       "2          -1  January  2012  \n",
       "3          -1  January  2012  \n",
       "4          -1  January  2012  "
      ]
     },
     "execution_count": 8,
     "metadata": {},
     "output_type": "execute_result"
    }
   ],
   "source": [
    "year_list = []\n",
    "for i in range(len(initial_df['timestamp'])):\n",
    "    year_list.append(initial_df['timestamp'][i].year)\n",
    "\n",
    "initial_df[\"Year\"] = year_list\n",
    "initial_df.head()"
   ]
  },
  {
   "cell_type": "code",
   "execution_count": 9,
   "metadata": {},
   "outputs": [
    {
     "data": {
      "text/html": [
       "<div>\n",
       "<style scoped>\n",
       "    .dataframe tbody tr th:only-of-type {\n",
       "        vertical-align: middle;\n",
       "    }\n",
       "\n",
       "    .dataframe tbody tr th {\n",
       "        vertical-align: top;\n",
       "    }\n",
       "\n",
       "    .dataframe thead th {\n",
       "        text-align: right;\n",
       "    }\n",
       "</style>\n",
       "<table border=\"1\" class=\"dataframe\">\n",
       "  <thead>\n",
       "    <tr style=\"text-align: right;\">\n",
       "      <th></th>\n",
       "      <th>speed</th>\n",
       "      <th>course</th>\n",
       "      <th>lat</th>\n",
       "      <th>lon</th>\n",
       "      <th>is_fishing</th>\n",
       "      <th>Month</th>\n",
       "      <th>Year</th>\n",
       "    </tr>\n",
       "  </thead>\n",
       "  <tbody>\n",
       "    <tr>\n",
       "      <th>0</th>\n",
       "      <td>8.2</td>\n",
       "      <td>230.500000</td>\n",
       "      <td>14</td>\n",
       "      <td>-26</td>\n",
       "      <td>-1</td>\n",
       "      <td>January</td>\n",
       "      <td>2012</td>\n",
       "    </tr>\n",
       "    <tr>\n",
       "      <th>1</th>\n",
       "      <td>7.3</td>\n",
       "      <td>238.399994</td>\n",
       "      <td>14</td>\n",
       "      <td>-26</td>\n",
       "      <td>-1</td>\n",
       "      <td>January</td>\n",
       "      <td>2012</td>\n",
       "    </tr>\n",
       "    <tr>\n",
       "      <th>2</th>\n",
       "      <td>6.8</td>\n",
       "      <td>238.899994</td>\n",
       "      <td>14</td>\n",
       "      <td>-26</td>\n",
       "      <td>-1</td>\n",
       "      <td>January</td>\n",
       "      <td>2012</td>\n",
       "    </tr>\n",
       "    <tr>\n",
       "      <th>3</th>\n",
       "      <td>6.9</td>\n",
       "      <td>251.800003</td>\n",
       "      <td>14</td>\n",
       "      <td>-26</td>\n",
       "      <td>-1</td>\n",
       "      <td>January</td>\n",
       "      <td>2012</td>\n",
       "    </tr>\n",
       "    <tr>\n",
       "      <th>4</th>\n",
       "      <td>6.1</td>\n",
       "      <td>231.100006</td>\n",
       "      <td>14</td>\n",
       "      <td>-26</td>\n",
       "      <td>-1</td>\n",
       "      <td>January</td>\n",
       "      <td>2012</td>\n",
       "    </tr>\n",
       "  </tbody>\n",
       "</table>\n",
       "</div>"
      ],
      "text/plain": [
       "   speed      course  lat  lon  is_fishing    Month  Year\n",
       "0    8.2  230.500000   14  -26          -1  January  2012\n",
       "1    7.3  238.399994   14  -26          -1  January  2012\n",
       "2    6.8  238.899994   14  -26          -1  January  2012\n",
       "3    6.9  251.800003   14  -26          -1  January  2012\n",
       "4    6.1  231.100006   14  -26          -1  January  2012"
      ]
     },
     "execution_count": 9,
     "metadata": {},
     "output_type": "execute_result"
    }
   ],
   "source": [
    "processing_df = initial_df.drop([\"mmsi\",\"timestamp\"], axis=1)\n",
    "processing_df.head()"
   ]
  },
  {
   "cell_type": "code",
   "execution_count": 10,
   "metadata": {},
   "outputs": [
    {
     "data": {
      "text/plain": [
       "360.000000    426\n",
       "201.000000     23\n",
       "22.000000      23\n",
       "24.000000      21\n",
       "200.000000     20\n",
       "             ... \n",
       "79.900002       1\n",
       "326.399994      1\n",
       "332.799988      1\n",
       "146.100006      1\n",
       "272.500000      1\n",
       "Name: course, Length: 3241, dtype: int64"
      ]
     },
     "execution_count": 10,
     "metadata": {},
     "output_type": "execute_result"
    }
   ],
   "source": [
    "processing_df['course'].value_counts()"
   ]
  },
  {
   "cell_type": "code",
   "execution_count": 11,
   "metadata": {},
   "outputs": [
    {
     "data": {
      "text/plain": [
       "Index(['speed', 'course', 'lat', 'lon', 'Year', 'Month_April', 'Month_August',\n",
       "       'Month_December', 'Month_February', 'Month_January', 'Month_July',\n",
       "       'Month_June', 'Month_March', 'Month_May', 'Month_November',\n",
       "       'Month_October', 'Month_September'],\n",
       "      dtype='object')"
      ]
     },
     "execution_count": 11,
     "metadata": {},
     "output_type": "execute_result"
    }
   ],
   "source": [
    "to_test = pd.get_dummies(processing_df)\n",
    "X = to_test.drop(['is_fishing'], axis=1)\n",
    "y = to_test['is_fishing']\n",
    "X.columns"
   ]
  },
  {
   "cell_type": "code",
   "execution_count": 12,
   "metadata": {},
   "outputs": [],
   "source": [
    "X_train, X_test, y_train, y_test = train_test_split(X, y, random_state=1)\n",
    "scaler = StandardScaler().fit(X_train)\n",
    "X_train_scaled = scaler.transform(X_train)\n",
    "X_test_scaled = scaler.transform(X_test)"
   ]
  },
  {
   "cell_type": "code",
   "execution_count": 40,
   "metadata": {},
   "outputs": [
    {
     "name": "stdout",
     "output_type": "stream",
     "text": [
      "Training Score: 0.9996491228070176\n",
      "Testing Score: 0.9733333333333334\n"
     ]
    },
    {
     "data": {
      "text/plain": [
       "array([-1], dtype=int64)"
      ]
     },
     "execution_count": 40,
     "metadata": {},
     "output_type": "execute_result"
    }
   ],
   "source": [
    "from sklearn.ensemble import RandomForestClassifier\n",
    "clf = RandomForestClassifier(random_state=1, n_estimators=500).fit(X_train_scaled, y_train)\n",
    "print(f'Training Score: {clf.score(X_train_scaled, y_train)}')\n",
    "print(f'Testing Score: {clf.score(X_test_scaled, y_test)}')\n",
    "training_score = clf.score(X_train_scaled, y_train)\n",
    "testing_score = clf.score(X_test_scaled, y_test)\n",
    "clf.predict([[6.9, 230, 14, -8, 0,0,0,0,0,0,0,0,0,0,0,1, 2012]])"
   ]
  },
  {
   "cell_type": "code",
   "execution_count": 21,
   "metadata": {},
   "outputs": [],
   "source": [
    "#organize into order: speed, course, lat, long, months, year \n",
    "prediction_speed = np.arange(processing_df['speed'].min(), processing_df['speed'].max())\n",
    "prediction_course = np.arange(processing_df['course'].min(), processing_df['course'].max())\n",
    "potential_lats = np.arange(processing_df['lat'].min(),processing_df['lat'].max())\n",
    "potential_lons = np.arange(processing_df['lon'].min(),processing_df['lon'].max())\n",
    "prediction_months = [0] * 12\n",
    "prediction_years = [2015,2016,2017,2018]"
   ]
  },
  {
   "cell_type": "code",
   "execution_count": 27,
   "metadata": {},
   "outputs": [],
   "source": [
    "month_names = ['Jan','Feb','Mar','Apr','May','Jun','July','August','Sep','Oct','Nov','Dec']"
   ]
  },
  {
   "cell_type": "code",
   "execution_count": 48,
   "metadata": {},
   "outputs": [],
   "source": [
    "prediction_values = {}\n",
    "test_list = []\n",
    "for i in prediction_years:\n",
    "    prediction_values[i] = {}\n",
    "    \n",
    "    \n",
    "    for j, index in enumerate(month_names):\n",
    "        key_name = month_names[j]\n",
    "        prediction_months[j] = 1\n",
    "        prediction_values[i][key_name] = {}\n",
    "\n",
    "        for k, index in enumerate(potential_lons):\n",
    "             lon_val = potential_lons[k]\n",
    "\n",
    "             for l, index in enumerate(potential_lats):\n",
    "                lat_val = potential_lats[l]\n",
    "                full_list = [lat_val] + [lon_val] + prediction_months + [i]\n",
    "\n",
    "                for m, index in enumerate(prediction_course):\n",
    "                    course_val = prediction_course[m]\n",
    "\n",
    "                    for n, index in enumerate(prediction_speed):\n",
    "                          speed_val = prediction_speed[n]\n",
    "                          full_list = [speed_val] + [course_val] + [lat_val] + [lon_val] + prediction_months + [i]\n",
    "                          test_list.append(clf.predict([full_list]))\n",
    "                          #prediction_values[i][key_name] = clf.predict([full_list])\n",
    "            \n",
    "        prediction_values[i][key_name] = test_list\n",
    "        #reset\n",
    "        prediction_months[j] = 0\n",
    "        test_list = []\n"
   ]
  },
  {
   "cell_type": "code",
   "execution_count": 45,
   "metadata": {},
   "outputs": [
    {
     "data": {
      "text/plain": [
       "{2015: {'Jan': array([-1], dtype=int64)}}"
      ]
     },
     "execution_count": 45,
     "metadata": {},
     "output_type": "execute_result"
    }
   ],
   "source": [
    "prediction_values"
   ]
  },
  {
   "cell_type": "code",
   "execution_count": 19,
   "metadata": {},
   "outputs": [
    {
     "data": {
      "text/plain": [
       "(array([ 739.,  832., 3627., 1976.,  252.,  674.,  178.,   97.,  296.,\n",
       "        2729.]),\n",
       " array([ 7. , 10.6, 14.2, 17.8, 21.4, 25. , 28.6, 32.2, 35.8, 39.4, 43. ]),\n",
       " <BarContainer object of 10 artists>)"
      ]
     },
     "execution_count": 19,
     "metadata": {},
     "output_type": "execute_result"
    },
    {
     "data": {
      "image/png": "[encoded data removed]",
      "text/plain": [
       "<Figure size 432x288 with 1 Axes>"
      ]
     },
     "metadata": {
      "needs_background": "light"
     },
     "output_type": "display_data"
    }
   ],
   "source": [
    "import matplotlib.pyplot as plt\n",
    "plt.hist(initial_df['lat'])"
   ]
  },
  {
   "cell_type": "code",
   "execution_count": null,
   "metadata": {},
   "outputs": [
    {
     "data": {
      "text/html": [
       "<div>\n",
       "<style scoped>\n",
       "    .dataframe tbody tr th:only-of-type {\n",
       "        vertical-align: middle;\n",
       "    }\n",
       "\n",
       "    .dataframe tbody tr th {\n",
       "        vertical-align: top;\n",
       "    }\n",
       "\n",
       "    .dataframe thead th {\n",
       "        text-align: right;\n",
       "    }\n",
       "</style>\n",
       "<table border=\"1\" class=\"dataframe\">\n",
       "  <thead>\n",
       "    <tr style=\"text-align: right;\">\n",
       "      <th></th>\n",
       "      <th>mmsi</th>\n",
       "      <th>timestamp</th>\n",
       "      <th>speed</th>\n",
       "      <th>course</th>\n",
       "      <th>lat</th>\n",
       "      <th>lon</th>\n",
       "      <th>is_fishing</th>\n",
       "      <th>Month</th>\n",
       "      <th>Year</th>\n",
       "    </tr>\n",
       "  </thead>\n",
       "  <tbody>\n",
       "    <tr>\n",
       "      <th>0</th>\n",
       "      <td>12639560807591</td>\n",
       "      <td>2012-01-21 09:01:44</td>\n",
       "      <td>8.2</td>\n",
       "      <td>230.500000</td>\n",
       "      <td>14</td>\n",
       "      <td>-26</td>\n",
       "      <td>-1</td>\n",
       "      <td>January</td>\n",
       "      <td>2012</td>\n",
       "    </tr>\n",
       "    <tr>\n",
       "      <th>1</th>\n",
       "      <td>12639560807591</td>\n",
       "      <td>2012-01-21 09:03:25</td>\n",
       "      <td>7.3</td>\n",
       "      <td>238.399994</td>\n",
       "      <td>14</td>\n",
       "      <td>-26</td>\n",
       "      <td>-1</td>\n",
       "      <td>January</td>\n",
       "      <td>2012</td>\n",
       "    </tr>\n",
       "    <tr>\n",
       "      <th>2</th>\n",
       "      <td>12639560807591</td>\n",
       "      <td>2012-01-21 09:05:34</td>\n",
       "      <td>6.8</td>\n",
       "      <td>238.899994</td>\n",
       "      <td>14</td>\n",
       "      <td>-26</td>\n",
       "      <td>-1</td>\n",
       "      <td>January</td>\n",
       "      <td>2012</td>\n",
       "    </tr>\n",
       "    <tr>\n",
       "      <th>3</th>\n",
       "      <td>12639560807591</td>\n",
       "      <td>2012-01-21 10:54:41</td>\n",
       "      <td>6.9</td>\n",
       "      <td>251.800003</td>\n",
       "      <td>14</td>\n",
       "      <td>-26</td>\n",
       "      <td>-1</td>\n",
       "      <td>January</td>\n",
       "      <td>2012</td>\n",
       "    </tr>\n",
       "    <tr>\n",
       "      <th>4</th>\n",
       "      <td>12639560807591</td>\n",
       "      <td>2012-01-21 10:55:41</td>\n",
       "      <td>6.1</td>\n",
       "      <td>231.100006</td>\n",
       "      <td>14</td>\n",
       "      <td>-26</td>\n",
       "      <td>-1</td>\n",
       "      <td>January</td>\n",
       "      <td>2012</td>\n",
       "    </tr>\n",
       "  </tbody>\n",
       "</table>\n",
       "</div>"
      ],
      "text/plain": [
       "             mmsi           timestamp  speed      course  lat  lon  \\\n",
       "0  12639560807591 2012-01-21 09:01:44    8.2  230.500000   14  -26   \n",
       "1  12639560807591 2012-01-21 09:03:25    7.3  238.399994   14  -26   \n",
       "2  12639560807591 2012-01-21 09:05:34    6.8  238.899994   14  -26   \n",
       "3  12639560807591 2012-01-21 10:54:41    6.9  251.800003   14  -26   \n",
       "4  12639560807591 2012-01-21 10:55:41    6.1  231.100006   14  -26   \n",
       "\n",
       "   is_fishing    Month  Year  \n",
       "0          -1  January  2012  \n",
       "1          -1  January  2012  \n",
       "2          -1  January  2012  \n",
       "3          -1  January  2012  \n",
       "4          -1  January  2012  "
      ]
     },
     "execution_count": 11,
     "metadata": {},
     "output_type": "execute_result"
    }
   ],
   "source": [
    "initial_df.head()"
   ]
  },
  {
   "cell_type": "code",
   "execution_count": null,
   "metadata": {},
   "outputs": [],
   "source": [
    "#try testing for course, and time "
   ]
  },
  {
   "cell_type": "code",
   "execution_count": null,
   "metadata": {},
   "outputs": [],
   "source": []
  }
 ],
 "metadata": {
  "interpreter": {
   "hash": "978a37df73f74a92b6771ec2b219500c5d24072bb2710c7c15688cbcc4259e5f"
  },
  "kernelspec": {
   "display_name": "Python 3.7.11 ('base')",
   "language": "python",
   "name": "python3"
  },
  "language_info": {
   "codemirror_mode": {
    "name": "ipython",
    "version": 3
   },
   "file_extension": ".py",
   "mimetype": "text/x-python",
   "name": "python",
   "nbconvert_exporter": "python",
   "pygments_lexer": "ipython3",
   "version": "3.7.11"
  },
  "orig_nbformat": 4
 },
 "nbformat": 4,
 "nbformat_minor": 2
}
